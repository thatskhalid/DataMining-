{
 "cells": [
  {
   "cell_type": "code",
   "execution_count": null,
   "metadata": {},
   "outputs": [],
   "source": [
    "#Formerly as main.py\n",
    "\n",
    "import src.archive.cleaning as cleaning  # Import cleaning module\n",
    "from CustomKMeans import CustomKMeans  # Import custom KMeans class\n",
    "import matplotlib.pyplot as plt"
   ]
  },
  {
   "cell_type": "code",
   "execution_count": null,
   "metadata": {},
   "outputs": [],
   "source": [
    "def main():\n",
    "    # Step 1: Clean and visualize data\n",
    "    file_path = 'DataSet_1/car_prices.csv'\n",
    "    df = cleaning.clean_and_visualize(file_path)  # Clean data using function from cleaning.py\n",
    "\n",
    "    # Step 2: Select relevant columns for clustering\n",
    "    selected_columns = df[['odometer', 'year', 'sellingprice']]  # Adjust columns as necessary\n",
    "    \n",
    "\n",
    "    # Step 3: Run Custom KMeans algorithm and plot SSE for different k values\n",
    "    sse_values = []\n",
    "    k_values = range(1, 11)  # Test k from 1 to 10\n",
    "\n",
    "    for k in k_values:\n",
    "        kmeans = CustomKMeans(k)\n",
    "        kmeans.fit(selected_columns)\n",
    "        sse_values.append(kmeans.sse(selected_columns))  # Pass the DataFrame to sse()\n",
    "\n",
    "    # Step 4: Plot SSE vs k to determine the optimal number of clusters\n",
    "    plt.plot(k_values, sse_values, marker='o')\n",
    "    plt.title('SSE vs. k')\n",
    "    plt.xlabel('Number of clusters (k)')\n",
    "    plt.ylabel('Sum of Squared Errors (SSE)')\n",
    "    plt.show()\n",
    "\n",
    "if __name__ == '__main__':\n",
    "    main()"
   ]
  }
 ],
 "metadata": {
  "kernelspec": {
   "display_name": "Python 3",
   "language": "python",
   "name": "python3"
  },
  "language_info": {
   "codemirror_mode": {
    "name": "ipython",
    "version": 3
   },
   "file_extension": ".py",
   "mimetype": "text/x-python",
   "name": "python",
   "nbconvert_exporter": "python",
   "pygments_lexer": "ipython3",
   "version": "3.12.5"
  }
 },
 "nbformat": 4,
 "nbformat_minor": 2
}
