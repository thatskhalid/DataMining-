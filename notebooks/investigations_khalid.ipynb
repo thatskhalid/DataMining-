{
 "cells": [
  {
   "cell_type": "markdown",
   "metadata": {},
   "source": [
    "### Investigations\n",
    "\n",
    "The following are a few unexplained obervations from our project, and potential hypotheses to answer these anomalies.\n",
    "1) Obscured selling price for some vehicles\n",
    "2) Unrealistic high odometer readings\n",
    "3) Low condition ratings for vehicles with extremely low mileage\n",
    "4) Older vehicles with high selling prices\n",
    "5) Multiple vehicles with odometer readings in the hundreds of thousands"
   ]
  },
  {
   "cell_type": "code",
   "execution_count": 1,
   "metadata": {},
   "outputs": [
    {
     "name": "stdout",
     "output_type": "stream",
     "text": [
      "hello\n"
     ]
    }
   ],
   "source": [
    "print(\"hello\")"
   ]
  }
 ],
 "metadata": {
  "kernelspec": {
   "display_name": "Python 3",
   "language": "python",
   "name": "python3"
  },
  "language_info": {
   "codemirror_mode": {
    "name": "ipython",
    "version": 3
   },
   "file_extension": ".py",
   "mimetype": "text/x-python",
   "name": "python",
   "nbconvert_exporter": "python",
   "pygments_lexer": "ipython3",
   "version": "3.12.5"
  }
 },
 "nbformat": 4,
 "nbformat_minor": 2
}
