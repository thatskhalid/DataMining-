{
 "cells": [
  {
   "cell_type": "code",
   "execution_count": 7,
   "metadata": {},
   "outputs": [
    {
     "name": "stdout",
     "output_type": "stream",
     "text": [
      "\n",
      "Outlier counts for sellingprice:\n",
      "0    465181\n",
      "1      7144\n",
      "Name: count, dtype: int64\n",
      "\n",
      "Outlier counts for odometer:\n",
      "0    464357\n",
      "1      7968\n",
      "Name: count, dtype: int64\n",
      "\n",
      "Outlier counts for condition:\n",
      "0    472325\n",
      "Name: count, dtype: int64\n"
     ]
    }
   ],
   "source": [
    "import pandas as pd\n",
    "from pyod.models.mad import MAD\n",
    "\n",
    "# Load your dataset\n",
    "df = pd.read_csv('/Users/khali/Desktop/Coding Workspace/DataMining/data/cleaned/cleaned_data.csv')  # Update with your file's path\n",
    "\n",
    "# List of features to analyze\n",
    "features = [\"sellingprice\", \"odometer\", \"condition\"]\n",
    "\n",
    "# Dictionary to store results\n",
    "outlier_counts = {}\n",
    "\n",
    "for feature in features:\n",
    "    # Initialize and fit MAD model for the current feature\n",
    "    mad = MAD().fit(df[[feature]])\n",
    "    \n",
    "    # Extract the outlier labels\n",
    "    labels = mad.labels_\n",
    "    \n",
    "    # Count inliers (0) and outliers (1) and store in dictionary\n",
    "    outlier_counts[feature] = pd.Series(labels).value_counts()\n",
    "\n",
    "# Display results\n",
    "for feature, counts in outlier_counts.items():\n",
    "    print(f\"\\nOutlier counts for {feature}:\")\n",
    "    print(counts)\n",
    "\n"
   ]
  }
 ],
 "metadata": {
  "kernelspec": {
   "display_name": "Python 3",
   "language": "python",
   "name": "python3"
  },
  "language_info": {
   "codemirror_mode": {
    "name": "ipython",
    "version": 3
   },
   "file_extension": ".py",
   "mimetype": "text/x-python",
   "name": "python",
   "nbconvert_exporter": "python",
   "pygments_lexer": "ipython3",
   "version": "3.12.5"
  }
 },
 "nbformat": 4,
 "nbformat_minor": 2
}
