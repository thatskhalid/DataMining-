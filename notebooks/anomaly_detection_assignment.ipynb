{
 "cells": [
  {
   "cell_type": "code",
   "execution_count": null,
   "metadata": {},
   "outputs": [
    {
     "name": "stdout",
     "output_type": "stream",
     "text": [
      "\n",
      "Outlier counts for sellingprice:\n",
      "0    465181\n",
      "1      7144\n",
      "Name: count, dtype: int64\n"
     ]
    },
    {
     "ename": "NameError",
     "evalue": "name 'outliers' is not defined",
     "output_type": "error",
     "traceback": [
      "\u001b[1;31m---------------------------------------------------------------------------\u001b[0m",
      "\u001b[1;31mNameError\u001b[0m                                 Traceback (most recent call last)",
      "Cell \u001b[1;32mIn[14], line 27\u001b[0m\n\u001b[0;32m     25\u001b[0m \u001b[38;5;28mprint\u001b[39m(\u001b[38;5;124mf\u001b[39m\u001b[38;5;124m\"\u001b[39m\u001b[38;5;130;01m\\n\u001b[39;00m\u001b[38;5;124mOutlier counts for \u001b[39m\u001b[38;5;132;01m{\u001b[39;00mfeature\u001b[38;5;132;01m}\u001b[39;00m\u001b[38;5;124m:\u001b[39m\u001b[38;5;124m\"\u001b[39m)\n\u001b[0;32m     26\u001b[0m \u001b[38;5;28mprint\u001b[39m(counts)\n\u001b[1;32m---> 27\u001b[0m \u001b[38;5;28mprint\u001b[39m(\u001b[43moutliers\u001b[49m\u001b[38;5;241m.\u001b[39mhead(\u001b[38;5;241m10\u001b[39m))  \u001b[38;5;66;03m# Show the first 10 outlier values\u001b[39;00m\n",
      "\u001b[1;31mNameError\u001b[0m: name 'outliers' is not defined"
     ]
    }
   ],
   "source": [
    "import pandas as pd\n",
    "from pyod.models.mad import MAD\n",
    "\n",
    "# Load your dataset\n",
    "df = pd.read_csv('/Users/khali/Desktop/Coding Workspace/DataMining/data/cleaned/cleaned_data.csv')  # Update with your file's path\n",
    "\n",
    "# List of features to analyze\n",
    "features = [\"sellingprice\", \"odometer\", \"condition\"]\n",
    "\n",
    "# Dictionary to store results\n",
    "outlier_counts = {}\n",
    "\n",
    "for feature in features:\n",
    "    # Initialize and fit MAD model for the current feature\n",
    "    mad = MAD().fit(df[[feature]])\n",
    "    \n",
    "    # Extract the outlier labels\n",
    "    labels = mad.labels_\n",
    "    \n",
    "    # Count inliers (0) and outliers (1) and store in dictionary\n",
    "    outlier_counts[feature] = pd.Series(labels).value_counts()\n",
    "\n",
    "# Display results\n",
    "for feature, counts in outlier_counts.items():\n",
    "    print(f\"\\nOutlier counts for {feature}:\")\n",
    "    print(counts)\n",
    "    \n",
    "    \n",
    "    \n",
    "    \n",
    "\n"
   ]
  },
  {
   "cell_type": "code",
   "execution_count": 16,
   "metadata": {},
   "outputs": [
    {
     "name": "stdout",
     "output_type": "stream",
     "text": [
      "\n",
      "Outlier values for sellingprice:\n",
      "4     67000.0\n",
      "6     65000.0\n",
      "10    49750.0\n",
      "17    67200.0\n",
      "21    65000.0\n",
      "26    47500.0\n",
      "28    44500.0\n",
      "30    59900.0\n",
      "32    64250.0\n",
      "34    44000.0\n",
      "Name: sellingprice, dtype: float64\n",
      "\n",
      "Outlier values for odometer:\n",
      "258     999999.0\n",
      "1528    227606.0\n",
      "2285    291087.0\n",
      "2587    312235.0\n",
      "2993    208579.0\n",
      "3016    211033.0\n",
      "3051    210987.0\n",
      "3132    210113.0\n",
      "3154    241273.0\n",
      "3173    209904.0\n",
      "Name: odometer, dtype: float64\n",
      "\n",
      "Outlier values for condition:\n",
      "Series([], Name: condition, dtype: float64)\n"
     ]
    }
   ],
   "source": [
    "# Import libraries\n",
    "import pandas as pd\n",
    "from pyod.models.mad import MAD\n",
    "\n",
    "# Load your dataset (adjust the file path as needed)\n",
    "df = pd.read_csv('/Users/khali/Desktop/Coding Workspace/DataMining/data/cleaned/cleaned_data.csv')  # Update with your file's path\n",
    "\n",
    "# Select features to detect outliers\n",
    "features = [\"sellingprice\", \"odometer\", \"condition\"]\n",
    "\n",
    "# Loop through each feature and detect outliers\n",
    "for feature in features:\n",
    "    # Initialize and fit MAD model for the current feature\n",
    "    mad = MAD().fit(df[[feature]])\n",
    "    labels = mad.labels_  # Get outlier labels\n",
    "    \n",
    "    # Add the labels to the DataFrame\n",
    "    df[f'{feature}_outliers'] = labels\n",
    "    \n",
    "    # Filter outliers (where label is 1) and display some of their values\n",
    "    outliers = df[df[f'{feature}_outliers'] == 1][feature]\n",
    "    print(f\"\\nOutlier values for {feature}:\")\n",
    "    print(outliers.head(10))  # Show the first 10 outlier values\n",
    "\n"
   ]
  }
 ],
 "metadata": {
  "kernelspec": {
   "display_name": "Python 3",
   "language": "python",
   "name": "python3"
  },
  "language_info": {
   "codemirror_mode": {
    "name": "ipython",
    "version": 3
   },
   "file_extension": ".py",
   "mimetype": "text/x-python",
   "name": "python",
   "nbconvert_exporter": "python",
   "pygments_lexer": "ipython3",
   "version": "3.12.5"
  }
 },
 "nbformat": 4,
 "nbformat_minor": 2
}
